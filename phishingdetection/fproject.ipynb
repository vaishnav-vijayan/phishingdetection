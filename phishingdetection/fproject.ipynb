{
 "cells": [
  {
   "cell_type": "code",
   "execution_count": 2,
   "metadata": {},
   "outputs": [],
   "source": [
    "import pandas as pd\n",
    "from sklearn.ensemble import RandomForestClassifier\n",
    "from sklearn.metrics import confusion_matrix\n",
    "from sklearn.metrics import classification_report\n",
    "import seaborn as sns\n",
    "import matplotlib.pyplot as plt\n",
    "#export model\n",
    "import pickle\n",
    "\n",
    "\n"
   ]
  },
  {
   "cell_type": "code",
   "execution_count": 3,
   "metadata": {},
   "outputs": [],
   "source": [
    "data = pd.read_csv('train.csv')\n",
    "y = data.iloc[:, -1]\n",
    "X = data.iloc[:, :-1]\n",
    "datatest = pd.read_csv('test.csv')\n",
    "X_test = datatest.iloc[:, :-1]\n",
    "y_test = datatest.iloc[:, -1]\n",
    "\n"
   ]
  },
  {
   "cell_type": "code",
   "execution_count": 12,
   "metadata": {},
   "outputs": [
    {
     "name": "stdout",
     "output_type": "stream",
     "text": [
      "Accuracy: 0.990228013029316\n",
      "              precision    recall  f1-score   support\n",
      "\n",
      "          -1       0.99      0.99      0.99       347\n",
      "           1       0.99      0.99      0.99       267\n",
      "\n",
      "    accuracy                           0.99       614\n",
      "   macro avg       0.99      0.99      0.99       614\n",
      "weighted avg       0.99      0.99      0.99       614\n",
      "\n"
     ]
    },
    {
     "data": {
      "image/png": "[encoded data removed]",
      "text/plain": [
       "<Figure size 432x288 with 2 Axes>"
      ]
     },
     "metadata": {
      "needs_background": "light"
     },
     "output_type": "display_data"
    }
   ],
   "source": [
    "rf_classifier = RandomForestClassifier()\n",
    "rf_classifier.fit(X, y)\n",
    "y_pred = rf_classifier.predict(X_test)\n",
    "accuracy = rf_classifier.score(X_test, y_test)\n",
    "print(\"Accuracy:\", accuracy)\n",
    "print(classification_report(y_test, y_pred))\n",
    "cm = confusion_matrix(y_test, y_pred)\n",
    "sns.heatmap(cm, annot=True)\n",
    "plt.show()\n",
    "\n"
   ]
  },
  {
   "cell_type": "code",
   "execution_count": 13,
   "metadata": {},
   "outputs": [],
   "source": [
    "#export model\n",
    "pickle.dump(rf_classifier, open('model.pkl','wb'))\n"
   ]
  },
  {
   "cell_type": "code",
   "execution_count": 14,
   "metadata": {},
   "outputs": [
    {
     "name": "stdout",
     "output_type": "stream",
     "text": [
      "['has_ip', 'long_url', 'short_service', 'has_at', 'double_slash_redirect', 'pref_suf', 'has_sub_domain', 'ssl_state', 'long_domain', 'favicon', 'port', 'https_token', 'req_url', 'url_of_anchor', 'tag_links', 'SFH', 'submit_to_email', 'abnormal_url', 'redirect', 'mouseover', 'right_click', 'popup', 'iframe', 'domain_Age', 'dns_record', 'traffic', 'page_rank', 'google_index', 'links_to_page', 'stats_report']\n"
     ]
    }
   ],
   "source": [
    "# get list of column names in x\n",
    "cols = list(X.columns.values)\n",
    "print(cols)"
   ]
  }
 ],
 "metadata": {
  "kernelspec": {
   "display_name": "Python 3.11.0 64-bit",
   "language": "python",
   "name": "python3"
  },
  "language_info": {
   "codemirror_mode": {
    "name": "ipython",
    "version": 3
   },
   "file_extension": ".py",
   "mimetype": "text/x-python",
   "name": "python",
   "nbconvert_exporter": "python",
   "pygments_lexer": "ipython3",
   "version": "3.11.0"
  },
  "orig_nbformat": 4,
  "vscode": {
   "interpreter": {
    "hash": "96f27e3de56a0ab879f4ff08d88770891cd6b08a54f2193661648a31a0773325"
   }
  }
 },
 "nbformat": 4,
 "nbformat_minor": 2
}
